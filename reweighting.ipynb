{
 "cells": [
  {
   "cell_type": "code",
   "execution_count": 1,
   "metadata": {
    "pycharm": {
     "is_executing": true,
     "name": "#%%\n"
    }
   },
   "outputs": [
    {
     "name": "stderr",
     "output_type": "stream",
     "text": [
      "/home/luoyicong/.conda/envs/py3.10/lib/python3.10/site-packages/tqdm/auto.py:21: TqdmWarning: IProgress not found. Please update jupyter and ipywidgets. See https://ipywidgets.readthedocs.io/en/stable/user_install.html\n",
      "  from .autonotebook import tqdm as notebook_tqdm\n"
     ]
    }
   ],
   "source": [
    "from icl.util_classes.arg_classes import ReweightingArgs\n",
    "from sklearn.metrics import accuracy_score\n",
    "from icl.utils.load_huggingface_dataset import load_huggingface_dataset_train_and_test\n",
    "import numpy as np"
   ]
  },
  {
   "cell_type": "code",
   "execution_count": 4,
   "metadata": {
    "pycharm": {
     "name": "#%%\n"
    }
   },
   "outputs": [],
   "source": [
    "def get_acc(y,labels):\n",
    "    scores = y.predictions[0]\n",
    "    acc = accuracy_score(labels, np.argmax(scores, axis=1))\n",
    "    return acc"
   ]
  },
  {
   "cell_type": "code",
   "execution_count": 7,
   "metadata": {
    "pycharm": {
     "is_executing": true,
     "name": "#%%\n"
    }
   },
   "outputs": [
    {
     "name": "stderr",
     "output_type": "stream",
     "text": [
      "Using the latest cached version of the dataset since glue couldn't be found on the Hugging Face Hub\n",
      "Found the latest cached dataset configuration 'sst2' at /home/luoyicong/.cache/huggingface/datasets/glue/sst2/0.0.0/bcdcba79d07bc864c1c254ccfcedcce55bcc9a8c (last modified on Tue Apr 16 11:13:17 2024).\n"
     ]
    }
   ],
   "source": [
    "all_results = []\n",
    "for task_name in ['sst2']:\n",
    "    dataset = load_huggingface_dataset_train_and_test(task_name)\n",
    "    task_results = []\n",
    "    for lr in [0.1]:\n",
    "        result_ls = []\n",
    "        for seed in [42]:\n",
    "            test_sample = dataset['test'].shuffle(seed=seed).select(range(min(1000,len(dataset['test']))))\n",
    "            labels = np.array(test_sample['label'])\n",
    "            args = ReweightingArgs(task_name=task_name, lr=lr,seeds=[seed])\n",
    "            results = args.load_result()[0][0]\n",
    "            y,y1,_,y2,y3 = results\n",
    "\n",
    "            acc_1 = get_acc(y,labels)\n",
    "            acc_2 = get_acc(y2,labels)\n",
    "            result_ls.append([acc_1,acc_2])\n",
    "        task_results.append(result_ls)\n",
    "    all_results.append(task_results)"
   ]
  }
 ],
 "metadata": {
  "kernelspec": {
   "display_name": "Python 3.10.10 ('wm')",
   "language": "python",
   "name": "python3"
  },
  "language_info": {
   "codemirror_mode": {
    "name": "ipython",
    "version": 3
   },
   "file_extension": ".py",
   "mimetype": "text/x-python",
   "name": "python",
   "nbconvert_exporter": "python",
   "pygments_lexer": "ipython3",
   "version": "3.10.13"
  },
  "orig_nbformat": 4,
  "vscode": {
   "interpreter": {
    "hash": "69f52fabb15766d39c6bf90ba53c555c905cb082f5a671ecb5c4487727b3f015"
   }
  }
 },
 "nbformat": 4,
 "nbformat_minor": 2
}
